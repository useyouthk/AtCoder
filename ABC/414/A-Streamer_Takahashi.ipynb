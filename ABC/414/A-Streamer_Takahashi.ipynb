{
 "cells": [
  {
   "cell_type": "code",
   "execution_count": 1,
   "id": "6e50bb36-90eb-42d5-b402-cf309af0e55d",
   "metadata": {},
   "outputs": [
    {
     "name": "stdin",
     "output_type": "stream",
     "text": [
      " 5 19 22\n"
     ]
    }
   ],
   "source": [
    "n, l, r = map(int, input().split())"
   ]
  },
  {
   "cell_type": "code",
   "execution_count": 2,
   "id": "687b09d8-81d7-451f-b84e-4f0e1c65cb35",
   "metadata": {},
   "outputs": [
    {
     "name": "stdin",
     "output_type": "stream",
     "text": [
      " 17 23\n",
      " 20 23\n",
      " 19 22\n",
      " 0 23\n",
      " 12 20\n"
     ]
    }
   ],
   "source": [
    "time_list = [list(map(int, input().split())) for l in range(n)]"
   ]
  },
  {
   "cell_type": "code",
   "execution_count": 7,
   "id": "7345651f-5208-4a1e-ac95-c43268265fa0",
   "metadata": {},
   "outputs": [],
   "source": [
    "cnt = 0\n",
    "for i in time_list:\n",
    "    if i[0] <= l and r <= i[1]:\n",
    "        cnt +=1"
   ]
  },
  {
   "cell_type": "code",
   "execution_count": 8,
   "id": "f83f8139-4ec9-4240-bde0-d3efdf41be9e",
   "metadata": {},
   "outputs": [
    {
     "name": "stdout",
     "output_type": "stream",
     "text": [
      "3\n"
     ]
    }
   ],
   "source": [
    "print(cnt)"
   ]
  },
  {
   "cell_type": "code",
   "execution_count": null,
   "id": "163a7100-8e49-4ad2-a09a-e40770b83f44",
   "metadata": {},
   "outputs": [],
   "source": []
  }
 ],
 "metadata": {
  "kernelspec": {
   "display_name": "Python 3 (ipykernel)",
   "language": "python",
   "name": "python3"
  },
  "language_info": {
   "codemirror_mode": {
    "name": "ipython",
    "version": 3
   },
   "file_extension": ".py",
   "mimetype": "text/x-python",
   "name": "python",
   "nbconvert_exporter": "python",
   "pygments_lexer": "ipython3",
   "version": "3.13.7"
  }
 },
 "nbformat": 4,
 "nbformat_minor": 5
}

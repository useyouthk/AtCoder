{
 "cells": [
  {
   "cell_type": "code",
   "execution_count": 1,
   "id": "be924d55-f4a3-457e-bb64-2c9e7ac8b04c",
   "metadata": {},
   "outputs": [
    {
     "name": "stdin",
     "output_type": "stream",
     "text": [
      " red\n"
     ]
    }
   ],
   "source": [
    "S = input()"
   ]
  },
  {
   "cell_type": "code",
   "execution_count": 2,
   "id": "9b2a16d5-6fa4-4b0c-98e8-72660204a4bd",
   "metadata": {},
   "outputs": [
    {
     "name": "stdout",
     "output_type": "stream",
     "text": [
      "SSS\n"
     ]
    }
   ],
   "source": [
    "if S == 'red':\n",
    "    print('SSS')\n",
    "elif S == 'blue':\n",
    "    print('FFF')\n",
    "elif S == 'green':\n",
    "    print('MMM')\n",
    "else:\n",
    "    print('Unknown')"
   ]
  },
  {
   "cell_type": "code",
   "execution_count": 3,
   "id": "939dea24-bd80-4c08-be61-e9a1dbf5d19a",
   "metadata": {},
   "outputs": [],
   "source": [
    "# メモ\n",
    "# きれいと思った解答例\n",
    "# https://atcoder.jp/contests/abc419/submissions/69207531\n",
    "# 確かに辞書型使ったほうがいい（特に要素が増えた場合）"
   ]
  },
  {
   "cell_type": "code",
   "execution_count": null,
   "id": "3a3851f7-b6d2-43a8-a01a-cbf0225bd3bf",
   "metadata": {},
   "outputs": [],
   "source": []
  }
 ],
 "metadata": {
  "kernelspec": {
   "display_name": "Python 3 (ipykernel)",
   "language": "python",
   "name": "python3"
  },
  "language_info": {
   "codemirror_mode": {
    "name": "ipython",
    "version": 3
   },
   "file_extension": ".py",
   "mimetype": "text/x-python",
   "name": "python",
   "nbconvert_exporter": "python",
   "pygments_lexer": "ipython3",
   "version": "3.13.7"
  }
 },
 "nbformat": 4,
 "nbformat_minor": 5
}

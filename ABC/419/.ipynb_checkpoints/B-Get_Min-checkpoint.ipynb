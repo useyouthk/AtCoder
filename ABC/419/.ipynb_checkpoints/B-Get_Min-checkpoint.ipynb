{
 "cells": [
  {
   "cell_type": "code",
   "execution_count": 3,
   "id": "9b232662-2ac9-47b9-9217-686f3aa26923",
   "metadata": {},
   "outputs": [],
   "source": [
    "import heapq"
   ]
  },
  {
   "cell_type": "code",
   "execution_count": 2,
   "id": "656f5b58-7b72-49ec-abd4-50c5f4937a4c",
   "metadata": {},
   "outputs": [
    {
     "name": "stdin",
     "output_type": "stream",
     "text": [
      " 6\n"
     ]
    }
   ],
   "source": [
    "Q = int(input())"
   ]
  },
  {
   "cell_type": "code",
   "execution_count": 4,
   "id": "f6650a7f-2d7f-418f-840f-c764fa1cd3e5",
   "metadata": {},
   "outputs": [],
   "source": [
    "S = []\n",
    "heapq.heapify(S)"
   ]
  },
  {
   "cell_type": "code",
   "execution_count": 5,
   "id": "e601e202-95ed-4f3d-ba58-81b85d9d6319",
   "metadata": {},
   "outputs": [
    {
     "name": "stdin",
     "output_type": "stream",
     "text": [
      " 1 6\n",
      " 1 7\n",
      " 2\n"
     ]
    },
    {
     "name": "stdout",
     "output_type": "stream",
     "text": [
      "6\n"
     ]
    },
    {
     "name": "stdin",
     "output_type": "stream",
     "text": [
      " 1 1\n",
      " 2\n"
     ]
    },
    {
     "name": "stdout",
     "output_type": "stream",
     "text": [
      "1\n"
     ]
    },
    {
     "name": "stdin",
     "output_type": "stream",
     "text": [
      " 2\n"
     ]
    },
    {
     "name": "stdout",
     "output_type": "stream",
     "text": [
      "7\n"
     ]
    }
   ],
   "source": [
    "for _ in range(Q):\n",
    "    xxx = list(map(int, input().split()))\n",
    "    if len(xxx) == 2:\n",
    "        heapq.heappush(S, xxx[1])\n",
    "    else:\n",
    "        print(heapq.heappop(S))"
   ]
  },
  {
   "cell_type": "code",
   "execution_count": 6,
   "id": "22a15510-e9dd-4244-8f35-c5c65777db67",
   "metadata": {},
   "outputs": [],
   "source": [
    "# メモ\n",
    "# heapqつかなくても解けそう\n",
    "# 値が最小のインデックス取得してpop\n",
    "# https://atcoder.jp/contests/abc419/submissions/69294264\n",
    "## ソートしてpop\n",
    "# https://atcoder.jp/contests/abc419/submissions/69295428"
   ]
  }
 ],
 "metadata": {
  "kernelspec": {
   "display_name": "Python 3 (ipykernel)",
   "language": "python",
   "name": "python3"
  },
  "language_info": {
   "codemirror_mode": {
    "name": "ipython",
    "version": 3
   },
   "file_extension": ".py",
   "mimetype": "text/x-python",
   "name": "python",
   "nbconvert_exporter": "python",
   "pygments_lexer": "ipython3",
   "version": "3.13.7"
  }
 },
 "nbformat": 4,
 "nbformat_minor": 5
}

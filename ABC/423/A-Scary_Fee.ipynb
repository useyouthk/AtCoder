{
 "cells": [
  {
   "cell_type": "code",
   "execution_count": 6,
   "id": "5349fdc4-c56b-446c-883d-7ec99c7e6403",
   "metadata": {},
   "outputs": [
    {
     "name": "stdin",
     "output_type": "stream",
     "text": [
      " 650000 8\n"
     ]
    }
   ],
   "source": [
    "x, c = map(int, input().split())"
   ]
  },
  {
   "cell_type": "code",
   "execution_count": 7,
   "id": "f674f1d1-bd75-4fe1-8961-44f6624f2381",
   "metadata": {},
   "outputs": [
    {
     "name": "stdout",
     "output_type": "stream",
     "text": [
      "644000\n"
     ]
    }
   ],
   "source": [
    "print(x // (1000 + c) * 1000)"
   ]
  },
  {
   "cell_type": "code",
   "execution_count": null,
   "id": "b480986b-ee83-43f2-9b34-75d428b00013",
   "metadata": {},
   "outputs": [],
   "source": []
  }
 ],
 "metadata": {
  "kernelspec": {
   "display_name": "Python 3 (ipykernel)",
   "language": "python",
   "name": "python3"
  },
  "language_info": {
   "codemirror_mode": {
    "name": "ipython",
    "version": 3
   },
   "file_extension": ".py",
   "mimetype": "text/x-python",
   "name": "python",
   "nbconvert_exporter": "python",
   "pygments_lexer": "ipython3",
   "version": "3.13.7"
  }
 },
 "nbformat": 4,
 "nbformat_minor": 5
}

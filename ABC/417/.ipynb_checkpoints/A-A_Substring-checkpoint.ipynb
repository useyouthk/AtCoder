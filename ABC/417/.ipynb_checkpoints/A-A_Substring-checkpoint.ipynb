{
 "cells": [
  {
   "cell_type": "code",
   "execution_count": 12,
   "id": "8b0fcb03-1e96-412d-ba0c-531c1495bcf1",
   "metadata": {},
   "outputs": [
    {
     "name": "stdin",
     "output_type": "stream",
     "text": [
      " 1 0 0\n",
      " a\n"
     ]
    }
   ],
   "source": [
    "n,a,b = map(int, input().split())\n",
    "s = input()"
   ]
  },
  {
   "cell_type": "code",
   "execution_count": 18,
   "id": "153ef9ae-6232-499b-bdf3-8f9d93458c32",
   "metadata": {},
   "outputs": [
    {
     "name": "stdout",
     "output_type": "stream",
     "text": [
      "a\n"
     ]
    }
   ],
   "source": [
    "if b == 0:\n",
    "    print(s[a::])\n",
    "else:\n",
    "    print(s[a:-b])"
   ]
  },
  {
   "cell_type": "code",
   "execution_count": null,
   "id": "27737875-9fe4-4ff3-82c8-32d61739e288",
   "metadata": {},
   "outputs": [],
   "source": []
  },
  {
   "cell_type": "code",
   "execution_count": null,
   "id": "3e641840-e7ed-445f-ae4a-f9cf83abc929",
   "metadata": {},
   "outputs": [],
   "source": [
    "# メモ\n",
    "# if分を使わない方法。なるほどなぁ・・・\n",
    "# https://atcoder.jp/contests/abc417/submissions/69210128\n",
    "# https://atcoder.jp/contests/abc417/submissions/69291172"
   ]
  }
 ],
 "metadata": {
  "kernelspec": {
   "display_name": "Python 3 (ipykernel)",
   "language": "python",
   "name": "python3"
  },
  "language_info": {
   "codemirror_mode": {
    "name": "ipython",
    "version": 3
   },
   "file_extension": ".py",
   "mimetype": "text/x-python",
   "name": "python",
   "nbconvert_exporter": "python",
   "pygments_lexer": "ipython3",
   "version": "3.13.7"
  }
 },
 "nbformat": 4,
 "nbformat_minor": 5
}

{
 "cells": [
  {
   "cell_type": "code",
   "execution_count": 16,
   "id": "75b5658e-9959-4fe6-a5ae-b9b95acf93a1",
   "metadata": {},
   "outputs": [
    {
     "name": "stdin",
     "output_type": "stream",
     "text": [
      " 3-3\n"
     ]
    }
   ],
   "source": [
    "i, j = map(int, input().split('-'))"
   ]
  },
  {
   "cell_type": "code",
   "execution_count": 17,
   "id": "774263a5-64a7-4243-880e-9c9aa21420a4",
   "metadata": {},
   "outputs": [
    {
     "name": "stdout",
     "output_type": "stream",
     "text": [
      "3-4\n"
     ]
    }
   ],
   "source": [
    "if i == 8 and j == 8:\n",
    "    print('8-8')\n",
    "elif i < 8 and j == 8:\n",
    "    print('{}-1'.format(i+1))\n",
    "else:\n",
    "    print('{}-{}'.format(i, j+1))"
   ]
  },
  {
   "cell_type": "code",
   "execution_count": null,
   "id": "98c1f0ff-f5cf-4d25-aa73-6cc608dd852e",
   "metadata": {},
   "outputs": [],
   "source": []
  }
 ],
 "metadata": {
  "kernelspec": {
   "display_name": "Python 3 (ipykernel)",
   "language": "python",
   "name": "python3"
  },
  "language_info": {
   "codemirror_mode": {
    "name": "ipython",
    "version": 3
   },
   "file_extension": ".py",
   "mimetype": "text/x-python",
   "name": "python",
   "nbconvert_exporter": "python",
   "pygments_lexer": "ipython3",
   "version": "3.13.7"
  }
 },
 "nbformat": 4,
 "nbformat_minor": 5
}

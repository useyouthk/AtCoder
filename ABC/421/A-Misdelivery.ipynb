{
 "cells": [
  {
   "cell_type": "code",
   "execution_count": 14,
   "id": "08a847d6-1bcc-4835-a83b-f7951bda8c9b",
   "metadata": {},
   "outputs": [
    {
     "name": "stdin",
     "output_type": "stream",
     "text": [
      " 2\n",
      " wang\n",
      " li\n",
      " 2 wang\n"
     ]
    }
   ],
   "source": [
    "N = int(input())\n",
    "\n",
    "A = []\n",
    "for _ in range(N):\n",
    "    A.append(input())\n",
    "\n",
    "Q, Q_name = map(str, input().split())"
   ]
  },
  {
   "cell_type": "code",
   "execution_count": 15,
   "id": "d922b3f6-6d17-4e3b-94f8-0e9e745698cb",
   "metadata": {},
   "outputs": [
    {
     "name": "stdout",
     "output_type": "stream",
     "text": [
      "No\n"
     ]
    }
   ],
   "source": [
    "if A[int(Q)-1] == Q_name:\n",
    "    print('Yes')\n",
    "else:\n",
    "    print('No')"
   ]
  },
  {
   "cell_type": "code",
   "execution_count": null,
   "id": "24d67e81-3c1d-420c-bc37-e62a62d46fe7",
   "metadata": {},
   "outputs": [],
   "source": []
  }
 ],
 "metadata": {
  "kernelspec": {
   "display_name": "Python 3 (ipykernel)",
   "language": "python",
   "name": "python3"
  },
  "language_info": {
   "codemirror_mode": {
    "name": "ipython",
    "version": 3
   },
   "file_extension": ".py",
   "mimetype": "text/x-python",
   "name": "python",
   "nbconvert_exporter": "python",
   "pygments_lexer": "ipython3",
   "version": "3.13.7"
  }
 },
 "nbformat": 4,
 "nbformat_minor": 5
}

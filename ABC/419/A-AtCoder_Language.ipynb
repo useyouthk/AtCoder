{
 "cells": [
  {
   "cell_type": "code",
   "execution_count": 1,
   "id": "be924d55-f4a3-457e-bb64-2c9e7ac8b04c",
   "metadata": {},
   "outputs": [
    {
     "name": "stdin",
     "output_type": "stream",
     "text": [
      " red\n"
     ]
    }
   ],
   "source": [
    "S = input()"
   ]
  },
  {
   "cell_type": "code",
   "execution_count": 2,
   "id": "9b2a16d5-6fa4-4b0c-98e8-72660204a4bd",
   "metadata": {},
   "outputs": [
    {
     "name": "stdout",
     "output_type": "stream",
     "text": [
      "SSS\n"
     ]
    }
   ],
   "source": [
    "if S == 'red':\n",
    "    print('SSS')\n",
    "elif S == 'blue':\n",
    "    print('FFF')\n",
    "elif S == 'green':\n",
    "    print('MMM')\n",
    "else:\n",
    "    print('Unknown')"
   ]
  },
  {
   "cell_type": "code",
   "execution_count": null,
   "id": "939dea24-bd80-4c08-be61-e9a1dbf5d19a",
   "metadata": {},
   "outputs": [],
   "source": []
  }
 ],
 "metadata": {
  "kernelspec": {
   "display_name": "Python 3 (ipykernel)",
   "language": "python",
   "name": "python3"
  },
  "language_info": {
   "codemirror_mode": {
    "name": "ipython",
    "version": 3
   },
   "file_extension": ".py",
   "mimetype": "text/x-python",
   "name": "python",
   "nbconvert_exporter": "python",
   "pygments_lexer": "ipython3",
   "version": "3.13.7"
  }
 },
 "nbformat": 4,
 "nbformat_minor": 5
}

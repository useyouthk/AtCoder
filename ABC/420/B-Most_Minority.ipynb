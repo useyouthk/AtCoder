{
 "cells": [
  {
   "cell_type": "code",
   "execution_count": 88,
   "id": "5228e58f-6468-4135-bdda-66d6ded841bd",
   "metadata": {},
   "outputs": [
    {
     "name": "stdin",
     "output_type": "stream",
     "text": [
      " 7 8\n",
      " 11010011\n",
      " 01000000\n",
      " 01111100\n",
      " 10111000\n",
      " 10011110\n",
      " 10100101\n",
      " 10010110\n"
     ]
    }
   ],
   "source": [
    "n,m = map(int, input().split())\n",
    "\n",
    "S = []\n",
    "for _ in range(n):\n",
    "    S.append(input())"
   ]
  },
  {
   "cell_type": "code",
   "execution_count": 89,
   "id": "131da259-1860-44b1-8e8a-ab8679c06756",
   "metadata": {},
   "outputs": [],
   "source": [
    "nums_list = n*[0]"
   ]
  },
  {
   "cell_type": "code",
   "execution_count": 90,
   "id": "f6ae9722-fbbb-4cfd-8e70-ca920f216d6c",
   "metadata": {},
   "outputs": [],
   "source": [
    "for i in range(m):\n",
    "    X = []\n",
    "    for j in range(n):\n",
    "        X.append(int(S[j][i]))\n",
    "\n",
    "    if sum(X) == 0 or sum(X) == n:\n",
    "        pass\n",
    "    elif sum(X) < n / 2:\n",
    "        for k in range(n):\n",
    "            if X[k] == 1:\n",
    "                nums_list[k] += 1\n",
    "    else:\n",
    "        for l in range(n):\n",
    "            if X[l] == 0:\n",
    "                nums_list[l] += 1"
   ]
  },
  {
   "cell_type": "code",
   "execution_count": 91,
   "id": "ee1dd24c-438f-42b8-8cfd-8e769e7ec774",
   "metadata": {},
   "outputs": [],
   "source": [
    "max_indices = [p for p, x in enumerate(nums_list) if x == max(nums_list)]"
   ]
  },
  {
   "cell_type": "code",
   "execution_count": 92,
   "id": "fd9bad0d-e5c6-4877-94e8-3d6ffbfbc5e8",
   "metadata": {},
   "outputs": [],
   "source": [
    "max_index = [i+1 for i in max_indices]"
   ]
  },
  {
   "cell_type": "code",
   "execution_count": 93,
   "id": "d5d9c225-3e57-4578-937f-36205e449c10",
   "metadata": {},
   "outputs": [
    {
     "name": "stdout",
     "output_type": "stream",
     "text": [
      "1 2 3\n"
     ]
    }
   ],
   "source": [
    "print(*max_index)"
   ]
  },
  {
   "cell_type": "code",
   "execution_count": null,
   "id": "3575e417-e3a6-4b45-ad38-09b1dd272a16",
   "metadata": {},
   "outputs": [],
   "source": []
  }
 ],
 "metadata": {
  "kernelspec": {
   "display_name": "Python 3 (ipykernel)",
   "language": "python",
   "name": "python3"
  },
  "language_info": {
   "codemirror_mode": {
    "name": "ipython",
    "version": 3
   },
   "file_extension": ".py",
   "mimetype": "text/x-python",
   "name": "python",
   "nbconvert_exporter": "python",
   "pygments_lexer": "ipython3",
   "version": "3.13.7"
  }
 },
 "nbformat": 4,
 "nbformat_minor": 5
}

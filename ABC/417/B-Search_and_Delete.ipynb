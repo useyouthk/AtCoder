{
 "cells": [
  {
   "cell_type": "code",
   "execution_count": 9,
   "id": "bf12645a-15e1-4660-9696-8f260a19a747",
   "metadata": {},
   "outputs": [
    {
     "name": "stdin",
     "output_type": "stream",
     "text": [
      " 8 5\n",
      " 1 2 2 3 3 3 5 6\n",
      " 2 2 7 3 6\n"
     ]
    }
   ],
   "source": [
    "n,m = map(int, input().split())\n",
    "a_list = list(map(int, input().split()))\n",
    "b_list = list(map(int, input().split()))"
   ]
  },
  {
   "cell_type": "code",
   "execution_count": 10,
   "id": "c581d572-5346-438b-a0f1-45f5ce052bad",
   "metadata": {},
   "outputs": [],
   "source": [
    "for xxx in range(m):\n",
    "    if b_list[xxx] in a_list:\n",
    "        a_list.remove(b_list[xxx])"
   ]
  },
  {
   "cell_type": "code",
   "execution_count": 12,
   "id": "4b967b6e-a30a-4096-b18e-2efce372dd79",
   "metadata": {},
   "outputs": [
    {
     "name": "stdout",
     "output_type": "stream",
     "text": [
      "1 3 3 5\n"
     ]
    }
   ],
   "source": [
    "print(*a_list)"
   ]
  }
 ],
 "metadata": {
  "kernelspec": {
   "display_name": "Python 3 (ipykernel)",
   "language": "python",
   "name": "python3"
  },
  "language_info": {
   "codemirror_mode": {
    "name": "ipython",
    "version": 3
   },
   "file_extension": ".py",
   "mimetype": "text/x-python",
   "name": "python",
   "nbconvert_exporter": "python",
   "pygments_lexer": "ipython3",
   "version": "3.13.7"
  }
 },
 "nbformat": 4,
 "nbformat_minor": 5
}

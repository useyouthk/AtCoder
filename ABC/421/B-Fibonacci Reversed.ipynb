{
 "cells": [
  {
   "cell_type": "code",
   "execution_count": 29,
   "id": "1d6d03e4-030f-41ba-bfd1-90fd11a5e2d1",
   "metadata": {},
   "outputs": [
    {
     "name": "stdin",
     "output_type": "stream",
     "text": [
      " 3 7\n"
     ]
    }
   ],
   "source": [
    "xy_list = list(map(int, input().split()))"
   ]
  },
  {
   "cell_type": "code",
   "execution_count": 30,
   "id": "81cdc433-d443-4a94-bea6-4896fb0a1ac5",
   "metadata": {},
   "outputs": [],
   "source": [
    "for _ in range(8):\n",
    "    xy_list.append(int(str(sum(xy_list)).rstrip('0')[::-1]))\n",
    "    xy_list.pop(0)"
   ]
  },
  {
   "cell_type": "code",
   "execution_count": 31,
   "id": "3b7b0288-1e71-47a5-ada7-5b1fba30311e",
   "metadata": {},
   "outputs": [
    {
     "name": "stdout",
     "output_type": "stream",
     "text": [
      "895\n"
     ]
    }
   ],
   "source": [
    "print(xy_list[-1])"
   ]
  },
  {
   "cell_type": "code",
   "execution_count": null,
   "id": "12c75cf1-090f-48c3-bf92-6702d507c1d9",
   "metadata": {},
   "outputs": [],
   "source": []
  },
  {
   "cell_type": "code",
   "execution_count": 1,
   "id": "050be083-fe27-4f0b-b984-8854b6320ea4",
   "metadata": {},
   "outputs": [],
   "source": [
    "# メモ\n",
    "# きれいと思う解答例\n",
    "# https://atcoder.jp/contests/abc421/submissions/69218233\n",
    "# ひっくり返してintすれば0削除は不要。なるほど・・・！"
   ]
  },
  {
   "cell_type": "code",
   "execution_count": null,
   "id": "bf297b53-dda0-442b-abfc-873f43e052bd",
   "metadata": {},
   "outputs": [],
   "source": []
  }
 ],
 "metadata": {
  "kernelspec": {
   "display_name": "Python 3 (ipykernel)",
   "language": "python",
   "name": "python3"
  },
  "language_info": {
   "codemirror_mode": {
    "name": "ipython",
    "version": 3
   },
   "file_extension": ".py",
   "mimetype": "text/x-python",
   "name": "python",
   "nbconvert_exporter": "python",
   "pygments_lexer": "ipython3",
   "version": "3.13.7"
  }
 },
 "nbformat": 4,
 "nbformat_minor": 5
}
